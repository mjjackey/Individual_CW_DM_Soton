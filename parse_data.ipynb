{
 "cells": [
  {
   "cell_type": "code",
   "execution_count": 11,
   "metadata": {},
   "outputs": [],
   "source": [
    "#basics\n",
    "import pandas as pd \n",
    "import numpy as np\n",
    "import os\n",
    "import sys\n",
    "\n",
    "#parser\n",
    "import urllib\n",
    "from bs4 import BeautifulSoup\n",
    "\n",
    "#viz\n",
    "import matplotlib.pyplot as plt\n",
    "\n",
    "#NLP\n",
    "import string"
   ]
  },
  {
   "cell_type": "code",
   "execution_count": 19,
   "metadata": {},
   "outputs": [
    {
     "name": "stdout",
     "output_type": "stream",
     "text": [
      "D:\\Code\\Jupyter Notebook\\COMP6237_Data_Mining\\input2\\gap-html\n",
      "['gap_-C0BAAAAQAAJ', 'gap_2X5KAAAAYAAJ', 'gap_9ksIAAAAQAAJ', 'gap_aLcWAAAAQAAJ', 'gap_Bdw_AAAAYAAJ', 'gap_CnnUAAAAMAAJ', 'gap_CSEUAAAAYAAJ', 'gap_DhULAAAAYAAJ', 'gap_dIkBAAAAQAAJ', 'gap_DqQNAAAAYAAJ', 'gap_fnAMAAAAYAAJ', 'gap_GIt0HMhqjRgC', 'gap_IlUMAQAAMAAJ', 'gap_MEoWAAAAYAAJ', 'gap_m_6B1DkImIoC', 'gap_ogsNAAAAIAAJ', 'gap_pX5KAAAAYAAJ', 'gap_RqMNAAAAYAAJ', 'gap_TgpMAAAAYAAJ', 'gap_udEIAAAAQAAJ', 'gap_VPENAAAAQAAJ', 'gap_WORMAAAAYAAJ', 'gap_XmqHlMECi6kC', 'gap_y-AvAAAAYAAJ']\n",
      "24\n"
     ]
    }
   ],
   "source": [
    "# 有效代码\n",
    "cwd=os.getcwd()\n",
    "fd_str=os.path.join(cwd,\"input2\\\\gap-html\")\n",
    "print(fd_str)\n",
    "# Get all dirs\n",
    "dirnames = [name for name in os.listdir(fd_str)\n",
    "        if os.path.isdir(os.path.join(fd_str, name))]\n",
    "print(dirnames)\n",
    "\n",
    "# Get all regular files\n",
    "allfiles_names=[]\n",
    "for dirname in dirnames:\n",
    "    dirpath=os.path.join(fd_str,dirname)\n",
    "    names = [os.path.join(dirpath, name) for name in os.listdir(dirpath) \n",
    "            if name.endswith('.html') and os.path.isfile(os.path.join(dirpath, name))]\n",
    "    allfiles_names.append(names)  #二维列表\n",
    "print(len(allfiles_names)) \n",
    "# print(allfiles_names[0])"
   ]
  },
  {
   "cell_type": "code",
   "execution_count": 13,
   "metadata": {},
   "outputs": [],
   "source": [
    "# 有效代码\n",
    "def read_file(file_path):\n",
    "#     with open(file_path, 'rt',encoding='latin-1') as f:\n",
    "    with open(file_path, 'rt',encoding='utf-8') as f:\n",
    "        data = f.read()\n",
    "    return data"
   ]
  },
  {
   "cell_type": "code",
   "execution_count": 14,
   "metadata": {},
   "outputs": [],
   "source": [
    "# 有效代码\n",
    "def write_file(file_path,text):\n",
    "    with open(file_path,'w',encoding='utf-8') as f:\n",
    "        f.write(text)"
   ]
  },
  {
   "cell_type": "code",
   "execution_count": 15,
   "metadata": {},
   "outputs": [],
   "source": [
    "# 有效代码\n",
    "def extract_text_by_bs(doc_text):\n",
    "    \"\"\"提取html页面的所有文本信息。\n",
    "    参考：\n",
    "    http://stackoverflow.com/questions/328356/extracting-text-from-html-file-using-python\n",
    "    \"\"\"\n",
    "    title, text = '', ''\n",
    "    soup = BeautifulSoup(doc_text, 'lxml')\n",
    "    try:\n",
    "        for script in soup([\"script\", \"style\"]):\n",
    "            script.extract()\n",
    "    except Exception as error:\n",
    "        print(error)\n",
    "        pass\n",
    "    else:\n",
    "        try:\n",
    "            # get text\n",
    "            title = soup.title.string\n",
    "        except Exception as error:\n",
    "            print(error)\n",
    "            pass\n",
    "        text = soup.get_text()\n",
    "        lines = (line.strip() for line in text.splitlines())\n",
    "        chunks = (phrase.strip() for line in lines for phrase in line.split(\"  \"))\n",
    "        text = ' '.join(chunk for chunk in chunks if chunk)\n",
    "    return title, text"
   ]
  },
  {
   "cell_type": "code",
   "execution_count": 20,
   "metadata": {},
   "outputs": [
    {
     "name": "stdout",
     "output_type": "stream",
     "text": [
      "24\n",
      "i:0\n",
      "0, OCR Output\n",
      "1, OCR Output OCR Output 800020427L ► ZOI5\n",
      "2, OCR Output OCR Output 800020427L ► ZOI5 OCR Output DICTIONARY GREEK AND ROMAN GEOGRAPHY. ns\n",
      "i:1\n",
      "0, OCR Output\n",
      "1, OCR Output OCR Output CReSlorecl througha arant in from (The Cartwright Foundation 5 ( PRINCETON UNIVERSITY K LIBRARY J\n",
      "2, OCR Output OCR Output CReSlorecl througha arant in from (The Cartwright Foundation 5 ( PRINCETON UNIVERSITY K LIBRARY J OCR Output\n",
      "i:2\n",
      "0, OCR Output\n",
      "1, OCR Output OCR Output\n",
      "2, OCR Output OCR Output OCR Output\n",
      "i:3\n",
      "0, OCR Output\n",
      "1, OCR Output OCR Output\n",
      "2, OCR Output OCR Output OCR Output 4 s3<? • (\n",
      "i:4\n",
      "0, OCR Output University of Virginia Library DG207 L5 B3 1797 V.1 ALD The history ot Rome.__ II ii II ill ii mi IJIIM imuii UX DD1 132 Sit,\n",
      "1, OCR Output University of Virginia Library DG207 L5 B3 1797 V.1 ALD The history ot Rome.__ II ii II ill ii mi IJIIM imuii UX DD1 132 Sit, OCR Output\n",
      "2, OCR Output University of Virginia Library DG207 L5 B3 1797 V.1 ALD The history ot Rome.__ II ii II ill ii mi IJIIM imuii UX DD1 132 Sit, OCR Output OCR Output\n",
      "i:5\n",
      "0, OCR Output\n",
      "1, OCR Output OCR Output Univcr? '- .-..3 General Library SystemUniversity of Wisconsin - Madison728 State StreetMadison, Wl 53706-1494U.S.A.\n",
      "2, OCR Output OCR Output Univcr? '- .-..3 General Library SystemUniversity of Wisconsin - Madison728 State StreetMadison, Wl 53706-1494U.S.A. OCR Output\n",
      "i:6\n",
      "0, OCR Output\n",
      "1, OCR Output OCR Output K'E ^\n",
      "2, OCR Output OCR Output K'E ^ OCR Output\n",
      "i:7\n",
      "0, OCR Output\n",
      "1, OCR Output OCR Output\n",
      "2, OCR Output OCR Output OCR Output\n",
      "i:8\n",
      "0, OCR Output a&lral BMBBIB ::l - :-,.-.-----. - j. - ' - - :. . ,',-'.'.','.'.'\"---.\".'.'•- 'u-\"\". -: :- : --'•'.--'•-- -\n",
      "1, OCR Output a&lral BMBBIB ::l - :-,.-.-----. - j. - ' - - :. . ,',-'.'.','.'.'\"---.\".'.'•- 'u-\"\". -: :- : --'•'.--'•-- - OCR Output 600074686 / 121 f //\n",
      "2, OCR Output a&lral BMBBIB ::l - :-,.-.-----. - j. - ' - - :. . ,',-'.'.','.'.'\"---.\".'.'•- 'u-\"\". -: :- : --'•'.--'•-- - OCR Output 600074686 / 121 f // OCR Output\n",
      "i:9\n",
      "0, OCR Output\n",
      "1, OCR Output OCR Output\n",
      "2, OCR Output OCR Output OCR Output\n",
      "i:10\n",
      "0, OCR Output\n",
      "1, OCR Output OCR Output\n",
      "2, OCR Output OCR Output OCR Output\n",
      "i:11\n",
      "0, OCR Output -A , Pi %»\n",
      "1, OCR Output -A , Pi %» OCR Output 600010679T 16.3U •I: \\\n",
      "2, OCR Output -A , Pi %» OCR Output 600010679T 16.3U •I: \\ OCR Output .- /\"\n",
      "i:12\n",
      "0, OCR Output\n",
      "1, OCR Output OCR Output\n",
      "2, OCR Output OCR Output OCR Output\n",
      "i:13\n",
      "0, OCR Output\n",
      "1, OCR Output OCR Output ^ ^\"^\"^\"^ *$\"^'^\"^* Harvard CollegeLibrary FROM THE BEQUEST OF JOHN HARVEY TREAT OF LAWRENCE, MASS.CLASS OF 1862\n",
      "2, OCR Output OCR Output ^ ^\"^\"^\"^ *$\"^'^\"^* Harvard CollegeLibrary FROM THE BEQUEST OF JOHN HARVEY TREAT OF LAWRENCE, MASS.CLASS OF 1862 OCR Output\n",
      "i:14\n",
      "0, OCR Output\n",
      "1, OCR Output OCR Output H/ COLLEGELIBRARY\n",
      "2, OCR Output OCR Output H/ COLLEGELIBRARY OCR Output\n",
      "i:15\n",
      "0, OCR Output\n",
      "1, OCR Output OCR Output ►\n",
      "2, OCR Output OCR Output ► OCR Output\n",
      "i:16\n",
      "0, OCR Output\n",
      "1, OCR Output OCR Output ifilrrarg uf tyxmteian Httiir^r»itgt.\n",
      "2, OCR Output OCR Output ifilrrarg uf tyxmteian Httiir^r»itgt. OCR Output\n",
      "i:17\n",
      "0, OCR Output\n",
      "1, OCR Output OCR Output |_-£/6,4./f ./a HARVARD COLLEGELIBRARY ,MrprNTNt Thayer.\n",
      "2, OCR Output OCR Output |_-£/6,4./f ./a HARVARD COLLEGELIBRARY ,MrprNTNt Thayer. OCR Output\n",
      "i:18\n",
      "0, OCR Output S^sa.\n",
      "1, OCR Output S^sa. OCR Output .*\n",
      "2, OCR Output S^sa. OCR Output .* OCR Output y E\n",
      "i:19\n",
      "0, OCR Output\n",
      "1, OCR Output OCR Output 1\n",
      "2, OCR Output OCR Output 1 OCR Output\n",
      "i:20\n",
      "0, OCR Output\n",
      "1, OCR Output OCR Output\n",
      "2, OCR Output OCR Output OCR Output\n",
      "i:21\n",
      "0, OCR Output\n",
      "1, OCR Output OCR Output\n",
      "2, OCR Output OCR Output OCR Output\n",
      "i:22\n",
      "0, OCR Output\n",
      "1, OCR Output OCR Output\n",
      "2, OCR Output OCR Output OCR Output\n",
      "i:23\n",
      "0, OCR Output iiiiiii : HX IHT3 B\n",
      "1, OCR Output iiiiiii : HX IHT3 B OCR Output ^arbart College Htbrarg. THE PARKMAN COLLECTION. BEQUEATHED BY Francis f* ar k m a n , (H.C. 1844). Received January /'. rflgt.\n",
      "2, OCR Output iiiiiii : HX IHT3 B OCR Output ^arbart College Htbrarg. THE PARKMAN COLLECTION. BEQUEATHED BY Francis f* ar k m a n , (H.C. 1844). Received January /'. rflgt. OCR Output Pa - ssa\n",
      "'NoneType' object has no attribute 'string'\n"
     ]
    }
   ],
   "source": [
    "# 有效代码\n",
    "doc_list=[]\n",
    "print(len(allfiles_names))\n",
    "for i in range(len(allfiles_names)):\n",
    "    print(\"i:\"+str(i))\n",
    "    text_combine=''\n",
    "    j=0\n",
    "    for file_path in allfiles_names[i]:\n",
    "        file_data=read_file(file_path) \n",
    "        title, text=extract_text_by_bs(file_data)\n",
    "        text_combine = text_combine+\" \"+text.strip()\n",
    "        \n",
    "        if(j<3):\n",
    "            print(str(j)+\",\"+text_combine)\n",
    "        j=j+1\n",
    "    doc_list.append(text_combine)"
   ]
  },
  {
   "cell_type": "code",
   "execution_count": 21,
   "metadata": {},
   "outputs": [
    {
     "name": "stdout",
     "output_type": "stream",
     "text": [
      "24\n"
     ]
    }
   ],
   "source": [
    "print(len(doc_list))"
   ]
  },
  {
   "cell_type": "code",
   "execution_count": 23,
   "metadata": {},
   "outputs": [
    {
     "name": "stdout",
     "output_type": "stream",
     "text": [
      "9198001\n"
     ]
    }
   ],
   "source": [
    "print(len(doc_list[0]))"
   ]
  },
  {
   "cell_type": "code",
   "execution_count": null,
   "metadata": {},
   "outputs": [],
   "source": []
  }
 ],
 "metadata": {
  "kernelspec": {
   "display_name": "Python 3",
   "language": "python",
   "name": "python3"
  },
  "language_info": {
   "codemirror_mode": {
    "name": "ipython",
    "version": 3
   },
   "file_extension": ".py",
   "mimetype": "text/x-python",
   "name": "python",
   "nbconvert_exporter": "python",
   "pygments_lexer": "ipython3",
   "version": "3.7.0"
  }
 },
 "nbformat": 4,
 "nbformat_minor": 2
}
